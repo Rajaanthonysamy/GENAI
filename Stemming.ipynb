{
 "cells": [
  {
   "cell_type": "markdown",
   "id": "9a7ba493-e6b6-42b6-bdf3-4565017fd62c",
   "metadata": {},
   "source": [
    "# Stemming\n",
    "###### useful for the classification problem. Stemming produce the wrong stem words for some of the words \n",
    "###### so using lemmatization to overcome this issue"
   ]
  },
  {
   "cell_type": "code",
   "execution_count": 14,
   "id": "c06189d0-31f6-456f-bc54-05f64ec9a80d",
   "metadata": {},
   "outputs": [],
   "source": [
    "words=[\"history\",\"writing\",\"going\",\"goes\",\"programming\",\"eats\",\"eaten\",\"finalize\"]"
   ]
  },
  {
   "cell_type": "markdown",
   "id": "88fcfe09-5b0a-4584-a321-2d5660827467",
   "metadata": {},
   "source": [
    "### PORTERSTEMMER"
   ]
  },
  {
   "cell_type": "code",
   "execution_count": 4,
   "id": "d259f6a7-4770-4cc0-8190-302d2c6150a1",
   "metadata": {},
   "outputs": [],
   "source": [
    "from nltk.stem import PorterStemmer"
   ]
  },
  {
   "cell_type": "code",
   "execution_count": 6,
   "id": "e19dec2a-a19c-46cb-9799-d3f14f380d24",
   "metadata": {},
   "outputs": [],
   "source": [
    "stemming=PorterStemmer()"
   ]
  },
  {
   "cell_type": "code",
   "execution_count": 16,
   "id": "cb4c3204-5535-4198-affd-b3869e219477",
   "metadata": {},
   "outputs": [
    {
     "name": "stdout",
     "output_type": "stream",
     "text": [
      "history---------------->  histori\n",
      "writing---------------->  write\n",
      "going---------------->  go\n",
      "goes---------------->  goe\n",
      "programming---------------->  program\n",
      "eats---------------->  eat\n",
      "eaten---------------->  eaten\n",
      "finalize---------------->  final\n"
     ]
    }
   ],
   "source": [
    "for word in words:\n",
    "    print(word+\"---------------->  \"+stemming.stem(word))"
   ]
  },
  {
   "cell_type": "code",
   "execution_count": 18,
   "id": "97a5197d-d862-4ec3-9bb5-9647c0494cba",
   "metadata": {},
   "outputs": [
    {
     "data": {
      "text/plain": [
       "'congratul'"
      ]
     },
     "execution_count": 18,
     "metadata": {},
     "output_type": "execute_result"
    }
   ],
   "source": [
    "stemming.stem(\"Congratulations\")"
   ]
  },
  {
   "cell_type": "code",
   "execution_count": 20,
   "id": "db2a0355-9e86-4629-a862-987c03a4afc1",
   "metadata": {},
   "outputs": [
    {
     "data": {
      "text/plain": [
       "'sit'"
      ]
     },
     "execution_count": 20,
     "metadata": {},
     "output_type": "execute_result"
    }
   ],
   "source": [
    "stemming.stem(\"sitting\")"
   ]
  },
  {
   "cell_type": "markdown",
   "id": "c55cb183-8cf1-4341-bc53-c939e97ed0e0",
   "metadata": {},
   "source": [
    "### RegexpStemmer"
   ]
  },
  {
   "cell_type": "code",
   "execution_count": 30,
   "id": "20456159-81cd-4615-afb3-38445a533c0e",
   "metadata": {},
   "outputs": [],
   "source": [
    "from nltk.stem import RegexpStemmer"
   ]
  },
  {
   "cell_type": "code",
   "execution_count": 32,
   "id": "f28058b6-bed5-4822-a34e-9ca7d5781d43",
   "metadata": {},
   "outputs": [],
   "source": [
    "reg_stem=RegexpStemmer('ing$|s$|e$|able$', min=4)"
   ]
  },
  {
   "cell_type": "code",
   "execution_count": 34,
   "id": "5fce285d-5e08-4b1f-af57-59af14e71eff",
   "metadata": {},
   "outputs": [
    {
     "name": "stdout",
     "output_type": "stream",
     "text": [
      "history\n",
      "writ\n",
      "go\n",
      "goe\n",
      "programm\n",
      "eat\n",
      "eaten\n",
      "finaliz\n"
     ]
    }
   ],
   "source": [
    "for word in words:\n",
    "    print(reg_stem.stem(word))"
   ]
  },
  {
   "cell_type": "code",
   "execution_count": 38,
   "id": "121c5161-4480-4d32-bf0c-abc00096c66e",
   "metadata": {},
   "outputs": [
    {
     "data": {
      "text/plain": [
       "'eat'"
      ]
     },
     "execution_count": 38,
     "metadata": {},
     "output_type": "execute_result"
    }
   ],
   "source": [
    "reg_stem.stem(\"eating\")"
   ]
  },
  {
   "cell_type": "code",
   "execution_count": 40,
   "id": "30eb9a79-af58-4c24-894c-f4d65fd2794d",
   "metadata": {},
   "outputs": [
    {
     "data": {
      "text/plain": [
       "'goe'"
      ]
     },
     "execution_count": 40,
     "metadata": {},
     "output_type": "execute_result"
    }
   ],
   "source": [
    "reg_stem.stem(\"goes\")"
   ]
  },
  {
   "cell_type": "code",
   "execution_count": 42,
   "id": "1c3b4222-1135-412b-a856-121e7f3bfc5f",
   "metadata": {},
   "outputs": [
    {
     "data": {
      "text/plain": [
       "'Un'"
      ]
     },
     "execution_count": 42,
     "metadata": {},
     "output_type": "execute_result"
    }
   ],
   "source": [
    "reg_stem.stem(\"Unable\")"
   ]
  },
  {
   "cell_type": "markdown",
   "id": "91cb8242-cad6-4a0e-8876-f37829d3fa4f",
   "metadata": {},
   "source": [
    "### Snowball Stemmer"
   ]
  },
  {
   "cell_type": "code",
   "execution_count": 45,
   "id": "5fc583ea-954f-42b9-9bce-e0ba5c00d3e1",
   "metadata": {},
   "outputs": [],
   "source": [
    "from nltk.stem import SnowballStemmer"
   ]
  },
  {
   "cell_type": "code",
   "execution_count": 51,
   "id": "e34fc68e-4817-4569-a464-f156181f2f9e",
   "metadata": {},
   "outputs": [],
   "source": [
    "snow_stem=SnowballStemmer(language='english')"
   ]
  },
  {
   "cell_type": "code",
   "execution_count": 57,
   "id": "87b8365f-eaa5-4712-bdeb-f48ec568735f",
   "metadata": {},
   "outputs": [
    {
     "name": "stdout",
     "output_type": "stream",
     "text": [
      "history------->  histori\n",
      "writing------->  write\n",
      "going------->  go\n",
      "goes------->  goe\n",
      "programming------->  program\n",
      "eats------->  eat\n",
      "eaten------->  eaten\n",
      "finalize------->  final\n"
     ]
    }
   ],
   "source": [
    "for word in words:\n",
    "    print(word+ \"------->  \"+snow_stem.stem(word))"
   ]
  },
  {
   "cell_type": "code",
   "execution_count": 61,
   "id": "4dfeb413-c09a-48a8-af0c-f120e598ea5e",
   "metadata": {},
   "outputs": [
    {
     "data": {
      "text/plain": [
       "('fair', 'sport')"
      ]
     },
     "execution_count": 61,
     "metadata": {},
     "output_type": "execute_result"
    }
   ],
   "source": [
    "snow_stem.stem(\"fairly\") , snow_stem.stem(\"sportingly\")"
   ]
  },
  {
   "cell_type": "code",
   "execution_count": null,
   "id": "312bb9e8-0ea5-4ee2-bddd-2382bedd4522",
   "metadata": {},
   "outputs": [],
   "source": []
  }
 ],
 "metadata": {
  "kernelspec": {
   "display_name": "Python 3 (ipykernel)",
   "language": "python",
   "name": "python3"
  },
  "language_info": {
   "codemirror_mode": {
    "name": "ipython",
    "version": 3
   },
   "file_extension": ".py",
   "mimetype": "text/x-python",
   "name": "python",
   "nbconvert_exporter": "python",
   "pygments_lexer": "ipython3",
   "version": "3.11.9"
  }
 },
 "nbformat": 4,
 "nbformat_minor": 5
}
