{
 "cells": [
  {
   "cell_type": "code",
   "execution_count": 1,
   "id": "cf7b7112-58f7-4727-9790-c4438204d903",
   "metadata": {},
   "outputs": [
    {
     "name": "stdout",
     "output_type": "stream",
     "text": [
      "Requirement already satisfied: nltk in /home/raja/anaconda3/lib/python3.11/site-packages (3.8.1)\n",
      "Requirement already satisfied: click in /home/raja/anaconda3/lib/python3.11/site-packages (from nltk) (8.1.7)\n",
      "Requirement already satisfied: joblib in /home/raja/anaconda3/lib/python3.11/site-packages (from nltk) (1.4.2)\n",
      "Requirement already satisfied: regex>=2021.8.3 in /home/raja/anaconda3/lib/python3.11/site-packages (from nltk) (2024.7.24)\n",
      "Requirement already satisfied: tqdm in /home/raja/anaconda3/lib/python3.11/site-packages (from nltk) (4.66.4)\n"
     ]
    }
   ],
   "source": [
    "!pip install nltk"
   ]
  },
  {
   "cell_type": "code",
   "execution_count": 15,
   "id": "38affd72-77ae-4480-8633-4ae94eabd5df",
   "metadata": {},
   "outputs": [],
   "source": [
    "corpus=\"\"\"Hello welcome to NLP practice notebook. \n",
    "Please try out all the methods of NLP! All the best\"\"\""
   ]
  },
  {
   "cell_type": "code",
   "execution_count": 17,
   "id": "d2092684-c0b8-48ed-8d3e-de81e9749614",
   "metadata": {},
   "outputs": [
    {
     "data": {
      "text/plain": [
       "'Hello welcome to NLP practice notebook. \\nPlease try out all the methods of NLP! All the best'"
      ]
     },
     "execution_count": 17,
     "metadata": {},
     "output_type": "execute_result"
    }
   ],
   "source": [
    "corpus"
   ]
  },
  {
   "cell_type": "markdown",
   "id": "d3cea422-242f-4d53-ae35-3c955ec0432b",
   "metadata": {},
   "source": [
    "## Tokenization"
   ]
  },
  {
   "cell_type": "code",
   "execution_count": 20,
   "id": "04c3485e-e6f3-4fc5-8905-3c40896eff09",
   "metadata": {},
   "outputs": [
    {
     "data": {
      "text/plain": [
       "['Hello welcome to NLP practice notebook.',\n",
       " 'Please try out all the methods of NLP!',\n",
       " 'All the best']"
      ]
     },
     "execution_count": 20,
     "metadata": {},
     "output_type": "execute_result"
    }
   ],
   "source": [
    "from nltk.tokenize import sent_tokenize\n",
    "sent_tokenize(corpus)"
   ]
  },
  {
   "cell_type": "code",
   "execution_count": 22,
   "id": "81729f13-587a-4e09-9028-67057755c8db",
   "metadata": {},
   "outputs": [],
   "source": [
    "doc=sent_tokenize(corpus)"
   ]
  },
  {
   "cell_type": "code",
   "execution_count": 24,
   "id": "44887255-f23b-4284-ba50-927b4bd00c41",
   "metadata": {},
   "outputs": [
    {
     "data": {
      "text/plain": [
       "list"
      ]
     },
     "execution_count": 24,
     "metadata": {},
     "output_type": "execute_result"
    }
   ],
   "source": [
    "type(doc)"
   ]
  },
  {
   "cell_type": "code",
   "execution_count": 26,
   "id": "a40ef2e8-02df-4d91-8af8-ab942f0e9a26",
   "metadata": {},
   "outputs": [
    {
     "name": "stdout",
     "output_type": "stream",
     "text": [
      "Hello welcome to NLP practice notebook.\n",
      "Please try out all the methods of NLP!\n",
      "All the best\n"
     ]
    }
   ],
   "source": [
    "for sent in doc:\n",
    "    print(sent)"
   ]
  },
  {
   "cell_type": "markdown",
   "id": "3c73f392-a0cf-4f32-90e0-919e4199432d",
   "metadata": {},
   "source": [
    "## Paragraph to words\n",
    "## sentence to words "
   ]
  },
  {
   "cell_type": "code",
   "execution_count": 29,
   "id": "0a9d5f21-63ac-4e84-9358-5fa326a4fd8a",
   "metadata": {},
   "outputs": [],
   "source": [
    "from nltk.tokenize import word_tokenize\n",
    "wrd_tkn=word_tokenize(corpus)"
   ]
  },
  {
   "cell_type": "code",
   "execution_count": 31,
   "id": "b6723f11-b82c-4037-9c9a-35f0585c83fc",
   "metadata": {},
   "outputs": [
    {
     "data": {
      "text/plain": [
       "['Hello',\n",
       " 'welcome',\n",
       " 'to',\n",
       " 'NLP',\n",
       " 'practice',\n",
       " 'notebook',\n",
       " '.',\n",
       " 'Please',\n",
       " 'try',\n",
       " 'out',\n",
       " 'all',\n",
       " 'the',\n",
       " 'methods',\n",
       " 'of',\n",
       " 'NLP',\n",
       " '!',\n",
       " 'All',\n",
       " 'the',\n",
       " 'best']"
      ]
     },
     "execution_count": 31,
     "metadata": {},
     "output_type": "execute_result"
    }
   ],
   "source": [
    "wrd_tkn"
   ]
  },
  {
   "cell_type": "code",
   "execution_count": 33,
   "id": "89146654-d3eb-45e4-bccd-4ac334badf43",
   "metadata": {},
   "outputs": [
    {
     "name": "stdout",
     "output_type": "stream",
     "text": [
      "['Hello', 'welcome', 'to', 'NLP', 'practice', 'notebook', '.']\n",
      "['Please', 'try', 'out', 'all', 'the', 'methods', 'of', 'NLP', '!']\n",
      "['All', 'the', 'best']\n"
     ]
    }
   ],
   "source": [
    "for sent in doc:\n",
    "    print(word_tokenize(sent))"
   ]
  },
  {
   "cell_type": "code",
   "execution_count": 35,
   "id": "6c038adc-df60-43fd-8c27-c6bae059a331",
   "metadata": {},
   "outputs": [],
   "source": [
    "from nltk.tokenize import wordpunct_tokenize"
   ]
  },
  {
   "cell_type": "code",
   "execution_count": 37,
   "id": "669b57c3-df6c-42d9-b2be-b257ad4a2925",
   "metadata": {},
   "outputs": [
    {
     "data": {
      "text/plain": [
       "['Hello',\n",
       " 'welcome',\n",
       " 'to',\n",
       " 'NLP',\n",
       " 'practice',\n",
       " 'notebook',\n",
       " '.',\n",
       " 'Please',\n",
       " 'try',\n",
       " 'out',\n",
       " 'all',\n",
       " 'the',\n",
       " 'methods',\n",
       " 'of',\n",
       " 'NLP',\n",
       " '!',\n",
       " 'All',\n",
       " 'the',\n",
       " 'best']"
      ]
     },
     "execution_count": 37,
     "metadata": {},
     "output_type": "execute_result"
    }
   ],
   "source": [
    "wordpunct_tokenize(corpus)"
   ]
  },
  {
   "cell_type": "code",
   "execution_count": 39,
   "id": "cf34bc66-6a6c-4dfe-8eb4-20dc16b71495",
   "metadata": {},
   "outputs": [],
   "source": [
    "from nltk.tokenize import TreebankWordTokenizer"
   ]
  },
  {
   "cell_type": "code",
   "execution_count": 43,
   "id": "4fa173fb-4908-4fcd-b315-cef17a7491d2",
   "metadata": {},
   "outputs": [],
   "source": [
    "tokenizer=TreebankWordTokenizer()"
   ]
  },
  {
   "cell_type": "code",
   "execution_count": 51,
   "id": "71fe865c-19f4-42e1-8532-32e7d6abe77a",
   "metadata": {},
   "outputs": [],
   "source": [
    "corpus=\"\"\"Hello welcome to NLP practice notebook. \n",
    "Please try out all the methods of NLP! All the best.\"\"\""
   ]
  },
  {
   "cell_type": "code",
   "execution_count": 53,
   "id": "1219c462-242b-4dcb-a5cc-713dd626fdea",
   "metadata": {},
   "outputs": [
    {
     "data": {
      "text/plain": [
       "['Hello',\n",
       " 'welcome',\n",
       " 'to',\n",
       " 'NLP',\n",
       " 'practice',\n",
       " 'notebook.',\n",
       " 'Please',\n",
       " 'try',\n",
       " 'out',\n",
       " 'all',\n",
       " 'the',\n",
       " 'methods',\n",
       " 'of',\n",
       " 'NLP',\n",
       " '!',\n",
       " 'All',\n",
       " 'the',\n",
       " 'best',\n",
       " '.']"
      ]
     },
     "execution_count": 53,
     "metadata": {},
     "output_type": "execute_result"
    }
   ],
   "source": [
    "tokenizer.tokenize(corpus)"
   ]
  },
  {
   "cell_type": "code",
   "execution_count": null,
   "id": "9a303e45-fdaf-4a80-92a2-5ce223b8bedb",
   "metadata": {},
   "outputs": [],
   "source": []
  },
  {
   "cell_type": "code",
   "execution_count": null,
   "id": "db9cd7c0-334a-487f-a00b-83e010288d06",
   "metadata": {},
   "outputs": [],
   "source": []
  }
 ],
 "metadata": {
  "kernelspec": {
   "display_name": "Python 3 (ipykernel)",
   "language": "python",
   "name": "python3"
  },
  "language_info": {
   "codemirror_mode": {
    "name": "ipython",
    "version": 3
   },
   "file_extension": ".py",
   "mimetype": "text/x-python",
   "name": "python",
   "nbconvert_exporter": "python",
   "pygments_lexer": "ipython3",
   "version": "3.11.9"
  }
 },
 "nbformat": 4,
 "nbformat_minor": 5
}
