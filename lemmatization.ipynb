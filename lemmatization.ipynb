{
 "cells": [
  {
   "cell_type": "code",
   "execution_count": 43,
   "id": "3ce6e3ca-0f08-4b49-9df8-fff0481032bb",
   "metadata": {},
   "outputs": [],
   "source": [
    "from nltk.stem import WordNetLemmatizer  ###This library will take more time to execute the lemmatization\n",
    "####  Q&A Chatboty"
   ]
  },
  {
   "cell_type": "code",
   "execution_count": 5,
   "id": "0931e6fc-f7e3-4872-80eb-c0ba8d13167a",
   "metadata": {},
   "outputs": [],
   "source": [
    "lemmatizer=WordNetLemmatizer()"
   ]
  },
  {
   "cell_type": "code",
   "execution_count": 17,
   "id": "4848b92d-baed-4b67-9bde-fe9489f7d14b",
   "metadata": {},
   "outputs": [
    {
     "data": {
      "text/plain": [
       "'going'"
      ]
     },
     "execution_count": 17,
     "metadata": {},
     "output_type": "execute_result"
    }
   ],
   "source": [
    "'''\n",
    "POS- Noun-n\n",
    "verb-v\n",
    "adverb-r\n",
    "adjective-a\n",
    "'''\n",
    "lemmatizer.lemmatize(\"going\",pos='n')   #### incorrect"
   ]
  },
  {
   "cell_type": "code",
   "execution_count": 19,
   "id": "a24c5ec1-1122-49a3-879e-eb3189a635b2",
   "metadata": {},
   "outputs": [
    {
     "data": {
      "text/plain": [
       "'go'"
      ]
     },
     "execution_count": 19,
     "metadata": {},
     "output_type": "execute_result"
    }
   ],
   "source": [
    "lemmatizer.lemmatize(\"going\",pos='v')  #### correct"
   ]
  },
  {
   "cell_type": "code",
   "execution_count": 21,
   "id": "a1b17f5b-4e68-4c9e-a6d6-c833110a34cf",
   "metadata": {},
   "outputs": [
    {
     "data": {
      "text/plain": [
       "'going'"
      ]
     },
     "execution_count": 21,
     "metadata": {},
     "output_type": "execute_result"
    }
   ],
   "source": [
    "lemmatizer.lemmatize(\"going\",pos='a')   #### incorrect"
   ]
  },
  {
   "cell_type": "code",
   "execution_count": 23,
   "id": "dcbc1883-cda4-47ca-a661-f19291fe63c2",
   "metadata": {},
   "outputs": [
    {
     "data": {
      "text/plain": [
       "'going'"
      ]
     },
     "execution_count": 23,
     "metadata": {},
     "output_type": "execute_result"
    }
   ],
   "source": [
    "lemmatizer.lemmatize(\"going\",pos='r')   #### incorrect"
   ]
  },
  {
   "cell_type": "code",
   "execution_count": 25,
   "id": "ae8e9486-bc33-4eb5-9b17-c60f569ff8b6",
   "metadata": {},
   "outputs": [],
   "source": [
    "words=[\"history\",\"writing\",\"going\",\"goes\",\"programming\",\"eats\",\"eaten\",\"finalize\"]"
   ]
  },
  {
   "cell_type": "code",
   "execution_count": 27,
   "id": "ca7f4a1d-5ef5-4487-bd8e-af8e64d24cd1",
   "metadata": {},
   "outputs": [
    {
     "name": "stdout",
     "output_type": "stream",
     "text": [
      "history------->  history\n",
      "writing------->  writing\n",
      "going------->  going\n",
      "goes------->  go\n",
      "programming------->  programming\n",
      "eats------->  eats\n",
      "eaten------->  eaten\n",
      "finalize------->  finalize\n"
     ]
    }
   ],
   "source": [
    "for word in words:\n",
    "    print(word +\"------->  \"+lemmatizer.lemmatize(word))"
   ]
  },
  {
   "cell_type": "code",
   "execution_count": 29,
   "id": "e9968c37-1831-42e9-b0d4-8a26a0919207",
   "metadata": {},
   "outputs": [
    {
     "name": "stdout",
     "output_type": "stream",
     "text": [
      "history------->  history\n",
      "writing------->  writing\n",
      "going------->  going\n",
      "goes------->  go\n",
      "programming------->  programming\n",
      "eats------->  eats\n",
      "eaten------->  eaten\n",
      "finalize------->  finalize\n"
     ]
    }
   ],
   "source": [
    "for word in words:\n",
    "    print(word +\"------->  \"+lemmatizer.lemmatize(word,pos='n'))"
   ]
  },
  {
   "cell_type": "code",
   "execution_count": 33,
   "id": "f52b6c48-01d6-4a8f-a156-78f7e0910396",
   "metadata": {},
   "outputs": [
    {
     "name": "stdout",
     "output_type": "stream",
     "text": [
      "history------->  history\n",
      "writing------->  write\n",
      "going------->  go\n",
      "goes------->  go\n",
      "programming------->  program\n",
      "eats------->  eat\n",
      "eaten------->  eat\n",
      "finalize------->  finalize\n"
     ]
    }
   ],
   "source": [
    "for word in words:\n",
    "    print(word +\"------->  \"+lemmatizer.lemmatize(word,pos='v'))  ### working well for the vers"
   ]
  },
  {
   "cell_type": "code",
   "execution_count": 37,
   "id": "297d7fe1-7607-4340-b3b5-ca7bebda1ce4",
   "metadata": {},
   "outputs": [
    {
     "data": {
      "text/plain": [
       "'sportingly'"
      ]
     },
     "execution_count": 37,
     "metadata": {},
     "output_type": "execute_result"
    }
   ],
   "source": [
    "lemmatizer.lemmatize(\"sportingly\",pos='n')"
   ]
  },
  {
   "cell_type": "code",
   "execution_count": null,
   "id": "7732ba1f-5aef-4a4a-81f7-ffd42f601d86",
   "metadata": {},
   "outputs": [],
   "source": []
  }
 ],
 "metadata": {
  "kernelspec": {
   "display_name": "Python 3 (ipykernel)",
   "language": "python",
   "name": "python3"
  },
  "language_info": {
   "codemirror_mode": {
    "name": "ipython",
    "version": 3
   },
   "file_extension": ".py",
   "mimetype": "text/x-python",
   "name": "python",
   "nbconvert_exporter": "python",
   "pygments_lexer": "ipython3",
   "version": "3.11.9"
  }
 },
 "nbformat": 4,
 "nbformat_minor": 5
}
